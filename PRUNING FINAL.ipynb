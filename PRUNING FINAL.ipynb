{
  "nbformat": 4,
  "nbformat_minor": 0,
  "metadata": {
    "colab": {
      "provenance": []
    },
    "kernelspec": {
      "name": "python3",
      "display_name": "Python 3"
    },
    "language_info": {
      "name": "python"
    }
  },
  "cells": [
    {
      "cell_type": "code",
      "execution_count": null,
      "metadata": {
        "colab": {
          "base_uri": "https://localhost:8080/",
          "height": 537
        },
        "id": "GPlL_37atn57",
        "outputId": "11901fe0-359a-4753-e659-fe6bc4913473"
      },
      "outputs": [
        {
          "output_type": "stream",
          "name": "stdout",
          "text": [
            "Files already downloaded and verified\n",
            "Files already downloaded and verified\n"
          ]
        },
        {
          "output_type": "stream",
          "name": "stderr",
          "text": [
            "/usr/local/lib/python3.10/dist-packages/torchvision/models/_utils.py:208: UserWarning: The parameter 'pretrained' is deprecated since 0.13 and may be removed in the future, please use 'weights' instead.\n",
            "  warnings.warn(\n",
            "/usr/local/lib/python3.10/dist-packages/torchvision/models/_utils.py:223: UserWarning: Arguments other than a weight enum or `None` for 'weights' are deprecated since 0.13 and may be removed in the future. The current behavior is equivalent to passing `weights=None`.\n",
            "  warnings.warn(msg)\n"
          ]
        },
        {
          "output_type": "stream",
          "name": "stdout",
          "text": [
            "[Linear(in_features=25088, out_features=4096, bias=True), ReLU(inplace=True), Dropout(p=0.5, inplace=False), Linear(in_features=4096, out_features=4096, bias=True), ReLU(inplace=True), Dropout(p=0.5, inplace=False), Linear(in_features=4096, out_features=1000, bias=True)]\n",
            "0\n"
          ]
        },
        {
          "output_type": "error",
          "ename": "KeyboardInterrupt",
          "evalue": "",
          "traceback": [
            "\u001b[0;31m---------------------------------------------------------------------------\u001b[0m",
            "\u001b[0;31mKeyboardInterrupt\u001b[0m                         Traceback (most recent call last)",
            "\u001b[0;32m<ipython-input-9-1540711db473>\u001b[0m in \u001b[0;36m<cell line: 26>\u001b[0;34m()\u001b[0m\n\u001b[1;32m     32\u001b[0m     \u001b[0moutput\u001b[0m \u001b[0;34m=\u001b[0m \u001b[0mvgg\u001b[0m\u001b[0;34m(\u001b[0m\u001b[0minput\u001b[0m\u001b[0;34m)\u001b[0m\u001b[0;34m\u001b[0m\u001b[0;34m\u001b[0m\u001b[0m\n\u001b[1;32m     33\u001b[0m     \u001b[0mloss\u001b[0m \u001b[0;34m=\u001b[0m \u001b[0mcriterion\u001b[0m\u001b[0;34m(\u001b[0m\u001b[0moutput\u001b[0m\u001b[0;34m,\u001b[0m\u001b[0mlabel\u001b[0m\u001b[0;34m)\u001b[0m\u001b[0;34m\u001b[0m\u001b[0;34m\u001b[0m\u001b[0m\n\u001b[0;32m---> 34\u001b[0;31m     \u001b[0mloss\u001b[0m\u001b[0;34m.\u001b[0m\u001b[0mbackward\u001b[0m\u001b[0;34m(\u001b[0m\u001b[0;34m)\u001b[0m\u001b[0;34m\u001b[0m\u001b[0;34m\u001b[0m\u001b[0m\n\u001b[0m\u001b[1;32m     35\u001b[0m     \u001b[0moptimizer\u001b[0m\u001b[0;34m.\u001b[0m\u001b[0mstep\u001b[0m\u001b[0;34m(\u001b[0m\u001b[0;34m)\u001b[0m\u001b[0;34m\u001b[0m\u001b[0;34m\u001b[0m\u001b[0m\n\u001b[1;32m     36\u001b[0m \u001b[0;34m\u001b[0m\u001b[0m\n",
            "\u001b[0;32m/usr/local/lib/python3.10/dist-packages/torch/_tensor.py\u001b[0m in \u001b[0;36mbackward\u001b[0;34m(self, gradient, retain_graph, create_graph, inputs)\u001b[0m\n\u001b[1;32m    520\u001b[0m                 \u001b[0minputs\u001b[0m\u001b[0;34m=\u001b[0m\u001b[0minputs\u001b[0m\u001b[0;34m,\u001b[0m\u001b[0;34m\u001b[0m\u001b[0;34m\u001b[0m\u001b[0m\n\u001b[1;32m    521\u001b[0m             )\n\u001b[0;32m--> 522\u001b[0;31m         torch.autograd.backward(\n\u001b[0m\u001b[1;32m    523\u001b[0m             \u001b[0mself\u001b[0m\u001b[0;34m,\u001b[0m \u001b[0mgradient\u001b[0m\u001b[0;34m,\u001b[0m \u001b[0mretain_graph\u001b[0m\u001b[0;34m,\u001b[0m \u001b[0mcreate_graph\u001b[0m\u001b[0;34m,\u001b[0m \u001b[0minputs\u001b[0m\u001b[0;34m=\u001b[0m\u001b[0minputs\u001b[0m\u001b[0;34m\u001b[0m\u001b[0;34m\u001b[0m\u001b[0m\n\u001b[1;32m    524\u001b[0m         )\n",
            "\u001b[0;32m/usr/local/lib/python3.10/dist-packages/torch/autograd/__init__.py\u001b[0m in \u001b[0;36mbackward\u001b[0;34m(tensors, grad_tensors, retain_graph, create_graph, grad_variables, inputs)\u001b[0m\n\u001b[1;32m    264\u001b[0m     \u001b[0;31m# some Python versions print out the first line of a multi-line function\u001b[0m\u001b[0;34m\u001b[0m\u001b[0;34m\u001b[0m\u001b[0m\n\u001b[1;32m    265\u001b[0m     \u001b[0;31m# calls in the traceback and some print out the last line\u001b[0m\u001b[0;34m\u001b[0m\u001b[0;34m\u001b[0m\u001b[0m\n\u001b[0;32m--> 266\u001b[0;31m     Variable._execution_engine.run_backward(  # Calls into the C++ engine to run the backward pass\n\u001b[0m\u001b[1;32m    267\u001b[0m         \u001b[0mtensors\u001b[0m\u001b[0;34m,\u001b[0m\u001b[0;34m\u001b[0m\u001b[0;34m\u001b[0m\u001b[0m\n\u001b[1;32m    268\u001b[0m         \u001b[0mgrad_tensors_\u001b[0m\u001b[0;34m,\u001b[0m\u001b[0;34m\u001b[0m\u001b[0;34m\u001b[0m\u001b[0m\n",
            "\u001b[0;31mKeyboardInterrupt\u001b[0m: "
          ]
        }
      ],
      "source": [
        "import torch\n",
        "import torchvision\n",
        "import torchvision.transforms as transforms\n",
        "import torch.optim as optim\n",
        "import torch.nn as nn\n",
        "from torchvision import models\n",
        "\n",
        "transform =  transforms.Compose([\n",
        "      transforms.ToTensor(),\n",
        "    transforms.Normalize((0.5, 0.5, 0.5), (0.5, 0.5, 0.5))\n",
        "])\n",
        "trainset = torchvision.datasets.CIFAR10(root='./data', train=True, download=True, transform=transform)\n",
        "trainloader = torch.utils.data.DataLoader(trainset, batch_size=4, shuffle=True, num_workers=2)\n",
        "testset = torchvision.datasets.CIFAR10(root='./data', train=False, download=True, transform=transform)\n",
        "testloader = torch.utils.data.DataLoader(testset, batch_size=4, shuffle=False, num_workers=2)\n",
        "vgg = models.vgg16(pretrained=False)\n",
        "print(list(vgg.classifier.children()))\n",
        "num_features = vgg.classifier[6].in_features\n",
        "features = list(vgg.classifier.children())[:-1]\n",
        "features.extend([nn.Linear(num_features, 10)])\n",
        "vgg.classifier = nn.Sequential(*features)\n",
        "criterion = nn.CrossEntropyLoss()\n",
        "optimizer = optim.SGD(vgg.parameters(), lr=0.001, momentum=0.9)\n",
        "device = torch.device(\"cuda:0\" if torch.cuda.is_available() else \"cpu\")\n",
        "vgg.to(device)\n",
        "for i in range(50):\n",
        "  print(i)\n",
        "  for j,data in enumerate(trainloader,0):\n",
        "    input = data[0].to(device)\n",
        "    label = data[1].to(device)\n",
        "    optimizer.zero_grad()\n",
        "    output = vgg(input)\n",
        "    loss = criterion(output,label)\n",
        "    loss.backward()\n",
        "    optimizer.step()\n",
        "\n",
        "correct = 0\n",
        "total = 0\n",
        "with torch.no_grad():\n",
        "    for data in testloader:\n",
        "        input = data[0].to(device)\n",
        "        label = data[1].to(device)\n",
        "        outputs = vgg(input)\n",
        "        _, predicted = torch.max(outputs.data, 1)\n",
        "        total += label.size(0)\n",
        "        correct += (predicted == label).sum().item()\n",
        "\n",
        "print(f'Accuracy : {100 * correct / total}%')\n"
      ]
    },
    {
      "cell_type": "code",
      "source": [
        "layers = dict([*vgg.named_modules()])\n",
        "print(layers)"
      ],
      "metadata": {
        "id": "uoG0TboBzQ7Z"
      },
      "execution_count": null,
      "outputs": []
    },
    {
      "cell_type": "code",
      "source": [
        "from copy import deepcopy\n",
        "import numpy as np\n",
        "def get_size(parameter):\n",
        "    return parameter.element_size() * parameter.nelement()\n",
        "def prune_layer(model, layer_name, p):\n",
        "    layer = dict([*model.named_modules()])[layer_name]\n",
        "    device = torch.device(\"cuda:0\" if torch.cuda.is_available() else \"cpu\")\n",
        "    layer = layer.to(device)\n",
        "    w = layer.weight.data.flatten()\n",
        "    n = w.numel()\n",
        "    n1 = int(n * p)\n",
        "    sorted, _ = torch.sort(w.abs(), descending=True)\n",
        "    threshold = sorted[n1].item()\n",
        "    pw = w.clone()\n",
        "    pw[torch.abs(pw) < threshold] = 0\n",
        "    layer.weight.data = pw.view(layer.weight.shape)\n",
        "def sensitivity_scan(model, layers, sparsity_range):\n",
        "    device = torch.device(\"cuda:0\" if torch.cuda.is_available() else \"cpu\")\n",
        "    vgg.to(device)\n",
        "    acc = {}\n",
        "    size = {}\n",
        "    i = 0\n",
        "    for layer_name, layer in layers.items():\n",
        "        print(i)\n",
        "        i += 1\n",
        "        if isinstance(layer, nn.Conv2d):\n",
        "            acc[layer_name] = []\n",
        "            size[layer_name] = []\n",
        "            for sparsity in sparsity_range:\n",
        "                pmodel = deepcopy(model).to(device)\n",
        "                prune_layer(pmodel, layer_name, sparsity)\n",
        "                accuracy = evaluate_model(pmodel, testloader)\n",
        "                acc[layer_name].append(accuracy)\n",
        "                size_bytes = get_size(layer.weight)\n",
        "                size_mbs = size_bytes / (1024 * 1024)\n",
        "                size[layer_name].append(size_mbs)\n",
        "    return acc, size\n",
        "def evaluate_model(model, testloader):\n",
        "    device = torch.device(\"cuda:0\" if torch.cuda.is_available() else \"cpu\")\n",
        "    model.eval()\n",
        "    correct = 0\n",
        "    total = 0\n",
        "    with torch.no_grad():\n",
        "        for data in testloader:\n",
        "            images = data[0].to(device)\n",
        "            labels = data[1].to(device)\n",
        "            outputs = model(images)\n",
        "            _, predicted = torch.max(outputs.data, 1)\n",
        "            total += labels.size(0)\n",
        "            correct += (predicted == labels).sum().item()\n",
        "    accuracy = 100 * correct / total\n",
        "    return accuracy\n",
        "\n",
        "layers = dict([*vgg.named_modules()])\n",
        "perc = np.arange(0.1,0.9,0.1)\n",
        "accuracies, sizes = sensitivity_scan(vgg, layers, perc)\n",
        "for layer_name in layers.keys():\n",
        "    if isinstance(layers[layer_name], nn.Conv2d):\n",
        "        print(f\"Layer: {layer_name}\")\n",
        "        for i in range(len(perc)):\n",
        "          p = perc[i]\n",
        "          acc = accuracies[layer_name][i]\n",
        "          size = sizes[layer_name][i]\n",
        "          print(f\"Sparsity: {s:.1f}, Accuracy: {acc:.2f}%, Size: {size:.2f} MBs\")\n",
        "        print()\n",
        "\n"
      ],
      "metadata": {
        "id": "UJ6jX1-cvnan"
      },
      "execution_count": null,
      "outputs": []
    },
    {
      "cell_type": "code",
      "source": [
        "target_sparsity = {\n",
        "    'features.0': 0.8,\n",
        "    'features.2': 0.8,\n",
        "    'features.5': 0.8,\n",
        "    'features.7': 0.5,\n",
        "    'features.10': 0.6,\n",
        "    'features.12': 0.6,\n",
        "    'features.14': 0.8,\n",
        "    'features.17': 0.6,\n",
        "    'features.19': 0.5,\n",
        "    'features.21': 0.6,\n",
        "    'features.24': 0.2,\n",
        "    'features.26': 0.4,\n",
        "    'features.28': 0.2,\n",
        "}\n",
        "pruned_model = deepcopy(vgg)\n",
        "pruned_model = pruned_model.to('cuda')\n",
        "for layer_name, perc in target_sparsity.items():\n",
        "    prune_layer(pruned_model, layer_name, perc)\n",
        "acc = evaluate_model(pruned_model, testloader)\n",
        "print(f\"Accuracy before fine-tuning: {acc:.2f}%\")\n",
        "criterion = nn.CrossEntropyLoss()\n",
        "optimizer = torch.optim.SGD(pruned_model.parameters(), lr=0.001, momentum=0.9)\n",
        "for epoch in range(10):\n",
        "    running_loss = 0.0\n",
        "    for i, data in enumerate(trainloader, 0):\n",
        "        inputs = data[0].to('cuda')\n",
        "        labels =  data[1].to('cuda')\n",
        "        optimizer.zero_grad()\n",
        "        outputs = pruned_model(inputs)\n",
        "        loss = criterion(outputs, labels)\n",
        "        loss.backward()\n",
        "        optimizer.step()\n",
        "        running_loss += loss.item()\n",
        "    print(f'Epoch {epoch + 1}, Loss: {running_loss / len(trainloader)}')\n",
        "acc = evaluate_model(pruned_model, testloader)\n",
        "print(f\"Accuracy after fine-tuning: {acc:.2f}%\")\n"
      ],
      "metadata": {
        "id": "GJpn_SIf3iYz"
      },
      "execution_count": null,
      "outputs": []
    },
    {
      "cell_type": "code",
      "source": [
        "import matplotlib.pyplot as plt\n",
        "def plot_weight_distribution(model, layer_names):\n",
        "    for layer_name in layer_names:\n",
        "        layer = dict(model.named_modules())[layer_name]\n",
        "        weights = layer.weight.data.flatten().cpu().numpy()\n",
        "        plt.figure(figsize=(8, 6))\n",
        "        plt.hist(weights, bins=50, alpha=0.7, color='b')\n",
        "        plt.title(f'Layer: {layer_name}')\n",
        "        plt.xlabel('Value')\n",
        "        plt.ylabel('Frequency')\n",
        "        plt.legend()\n",
        "        plt.grid(True)\n",
        "        plt.show()\n",
        "layers = dict([*vgg.named_modules()])\n",
        "list = []\n",
        "for layer_name, layer in layers.items():\n",
        "        if isinstance(layer, nn.Conv2d):\n",
        "          list.append(layer_name)\n",
        "plot_weight_distribution(vgg,list)\n",
        "plot_weight_distribution(pruned_model,list)"
      ],
      "metadata": {
        "id": "QfxWyErm7kJJ"
      },
      "execution_count": null,
      "outputs": []
    },
    {
      "cell_type": "code",
      "source": [],
      "metadata": {
        "id": "7260gtKb-cPf"
      },
      "execution_count": null,
      "outputs": []
    }
  ]
}